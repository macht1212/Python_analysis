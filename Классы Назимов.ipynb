{
 "cells": [
  {
   "cell_type": "code",
   "execution_count": 1,
   "id": "f35a77f4",
   "metadata": {},
   "outputs": [],
   "source": [
    "import requests\n",
    "import json"
   ]
  },
  {
   "cell_type": "markdown",
   "id": "7b72df5d",
   "metadata": {},
   "source": [
    "# Задание 1"
   ]
  },
  {
   "cell_type": "code",
   "execution_count": 40,
   "id": "f54738b8",
   "metadata": {},
   "outputs": [],
   "source": [
    "f = open('Downloads/daily_json.json')\n",
    "\n",
    "\n",
    "def MaxValue():\n",
    "    dict_ = {}\n",
    "    dict_2 = {}\n",
    "\n",
    "    dict_ = json.load(f)\n",
    "    dict_1 = dict_['Valute']\n",
    "\n",
    "    for key in dict_1.keys():\n",
    "        specific_value = dict_1[key]['Value']/dict_1[key]['Nominal']\n",
    "        dict_2[key] = specific_value\n",
    "\n",
    "    max_val = max(dict_2.values())\n",
    "    final_dict = {k:v for k, v in dict_2.items() if v == max_val}\n",
    "    valute = list(final_dict.items())\n",
    "    return dict_1[valute[0][0]]['Name']"
   ]
  },
  {
   "cell_type": "code",
   "execution_count": 41,
   "id": "fa96c691",
   "metadata": {},
   "outputs": [
    {
     "data": {
      "text/plain": [
       "'СДР (специальные права заимствования)'"
      ]
     },
     "execution_count": 41,
     "metadata": {},
     "output_type": "execute_result"
    }
   ],
   "source": [
    "MaxValue()"
   ]
  },
  {
   "cell_type": "markdown",
   "id": "1d04ecfa",
   "metadata": {},
   "source": [
    "# Задание 2"
   ]
  },
  {
   "cell_type": "code",
   "execution_count": 52,
   "id": "8be033ed",
   "metadata": {},
   "outputs": [],
   "source": [
    "from libs.exchange import Rate"
   ]
  },
  {
   "cell_type": "code",
   "execution_count": 58,
   "id": "60ed265a",
   "metadata": {},
   "outputs": [],
   "source": [
    "class NewRate(Rate):\n",
    "    \n",
    "    def __init__(self):\n",
    "        super().__init__(format='full')\n",
    "        \n",
    "    def diff(self, currency):\n",
    "        \"\"\"Получение разности курса валюты относительно предыдущего изменения\"\"\"\n",
    "        return self.make_format(currency)['Value'] - self.make_format(currency)['Previous']"
   ]
  },
  {
   "cell_type": "code",
   "execution_count": 59,
   "id": "143aa294",
   "metadata": {},
   "outputs": [],
   "source": [
    "r = NewRate()"
   ]
  },
  {
   "cell_type": "code",
   "execution_count": 60,
   "id": "15d695c3",
   "metadata": {},
   "outputs": [
    {
     "data": {
      "text/plain": [
       "0.0799000000000003"
      ]
     },
     "execution_count": 60,
     "metadata": {},
     "output_type": "execute_result"
    }
   ],
   "source": [
    "r.diff('RON')"
   ]
  },
  {
   "cell_type": "markdown",
   "id": "64493954",
   "metadata": {},
   "source": [
    "# Задание 3"
   ]
  },
  {
   "cell_type": "code",
   "execution_count": 72,
   "id": "ebdf8566",
   "metadata": {},
   "outputs": [],
   "source": [
    "class Employee:\n",
    "    def __init__(self, name, seniority):\n",
    "        self.name = name\n",
    "        self.seniority = seniority\n",
    "        \n",
    "        self.grade = 1\n",
    "    \n",
    "    def grade_up(self):\n",
    "        \"\"\"Повышает уровень сотрудника\"\"\"\n",
    "        self.grade += 1\n",
    "    \n",
    "    def publish_grade(self):\n",
    "        \"\"\"Публикация результатов аккредитации сотрудников\"\"\"\n",
    "        print(self.name, self.grade)"
   ]
  },
  {
   "cell_type": "code",
   "execution_count": 76,
   "id": "c67d15d3",
   "metadata": {},
   "outputs": [],
   "source": [
    "class Desiner(Employee):\n",
    "    def __init__(self, name, seniority):\n",
    "        super().__init__(name, seniority)\n",
    "    \n",
    "    def check_if_it_is_time_for_upgrade(self):\n",
    "        # для каждой премии увеличиваем счетчик на 2\n",
    "        # считаем, что все разработчики получают премии\n",
    "        self.seniority += 2\n",
    "        \n",
    "        # условие повышения сотрудника из презентации\n",
    "        if self.seniority % 7 == 0:\n",
    "            self.grade_up()\n",
    "        \n",
    "        # публикация результатов\n",
    "        return self.publish_grade()"
   ]
  },
  {
   "cell_type": "code",
   "execution_count": 79,
   "id": "7aa6539d",
   "metadata": {},
   "outputs": [],
   "source": [
    "alex = Desiner('Александр', 0)"
   ]
  },
  {
   "cell_type": "code",
   "execution_count": 80,
   "id": "d93458ac",
   "metadata": {},
   "outputs": [
    {
     "name": "stdout",
     "output_type": "stream",
     "text": [
      "Александр 1\n",
      "Александр 1\n",
      "Александр 1\n",
      "Александр 1\n",
      "Александр 1\n",
      "Александр 1\n",
      "Александр 2\n",
      "Александр 2\n",
      "Александр 2\n",
      "Александр 2\n",
      "Александр 2\n",
      "Александр 2\n",
      "Александр 2\n",
      "Александр 3\n",
      "Александр 3\n",
      "Александр 3\n",
      "Александр 3\n",
      "Александр 3\n",
      "Александр 3\n",
      "Александр 3\n"
     ]
    }
   ],
   "source": [
    "for i in range(20):\n",
    "    alex.check_if_it_is_time_for_upgrade()"
   ]
  },
  {
   "cell_type": "code",
   "execution_count": null,
   "id": "c7233ccb",
   "metadata": {},
   "outputs": [],
   "source": []
  }
 ],
 "metadata": {
  "kernelspec": {
   "display_name": "Python 3 (ipykernel)",
   "language": "python",
   "name": "python3"
  },
  "language_info": {
   "codemirror_mode": {
    "name": "ipython",
    "version": 3
   },
   "file_extension": ".py",
   "mimetype": "text/x-python",
   "name": "python",
   "nbconvert_exporter": "python",
   "pygments_lexer": "ipython3",
   "version": "3.9.12"
  }
 },
 "nbformat": 4,
 "nbformat_minor": 5
}
