{
 "cells": [
  {
   "cell_type": "code",
   "execution_count": 27,
   "id": "04436a70",
   "metadata": {
    "scrolled": true
   },
   "outputs": [],
   "source": [
    "import json"
   ]
  },
  {
   "cell_type": "markdown",
   "id": "48059451",
   "metadata": {},
   "source": [
    "## Задание 1"
   ]
  },
  {
   "cell_type": "code",
   "execution_count": 28,
   "id": "55f0378f",
   "metadata": {},
   "outputs": [],
   "source": [
    "f = open('/Users/xeniakhrustaleva/Desktop/Работа с файлами/Downloads/purchase_log.txt', 'r', encoding='utf-8')"
   ]
  },
  {
   "cell_type": "code",
   "execution_count": 29,
   "id": "60968845",
   "metadata": {},
   "outputs": [],
   "source": [
    "content = f.readlines()"
   ]
  },
  {
   "cell_type": "code",
   "execution_count": 30,
   "id": "7a79565d",
   "metadata": {},
   "outputs": [
    {
     "name": "stdout",
     "output_type": "stream",
     "text": [
      "{'user_id': 'user_id', 'category': 'category'}\n",
      "{'user_id': '1840e0b9d4', 'category': 'Продукты'}\n",
      "{'user_id': '4e4f90fcfb', 'category': 'Электроника'}\n",
      "{'user_id': 'afea8d72fc', 'category': 'Электроника'}\n",
      "{'user_id': '373a6055fe', 'category': 'Бытовая техника'}\n",
      "{'user_id': '9b2ab046f3', 'category': 'Электроника'}\n"
     ]
    }
   ],
   "source": [
    "i = 0\n",
    "for line in content:\n",
    "    line = line.strip()\n",
    "        \n",
    "    dict_ = json.loads(line)\n",
    "    print(dict_)\n",
    "        \n",
    "    i += 1\n",
    "    if i > 5:\n",
    "        break"
   ]
  },
  {
   "cell_type": "markdown",
   "id": "47cb730e",
   "metadata": {},
   "source": [
    "## Задание 2"
   ]
  },
  {
   "cell_type": "code",
   "execution_count": 43,
   "id": "97e05481",
   "metadata": {},
   "outputs": [],
   "source": [
    "f2 = open('/Users/xeniakhrustaleva/Desktop/Работа с файлами/Downloads/visit_log.csv', 'r', encoding='utf-8')"
   ]
  },
  {
   "cell_type": "code",
   "execution_count": 44,
   "id": "9510a786",
   "metadata": {},
   "outputs": [],
   "source": [
    "content2 = f2.readline()"
   ]
  },
  {
   "cell_type": "code",
   "execution_count": 45,
   "id": "b5e964db",
   "metadata": {},
   "outputs": [
    {
     "data": {
      "text/plain": [
       "['user_id', 'source']"
      ]
     },
     "execution_count": 45,
     "metadata": {},
     "output_type": "execute_result"
    }
   ],
   "source": [
    "content2.strip().split(',')"
   ]
  },
  {
   "cell_type": "code",
   "execution_count": 46,
   "id": "9aeff72c",
   "metadata": {},
   "outputs": [],
   "source": [
    "with open('/Users/xeniakhrustaleva/Desktop/Работа с файлами/Downloads/visit_log.csv', 'r') as f:\n",
    "    with open('/Users/xeniakhrustaleva/Desktop/Работа с файлами/Downloads/visits_context.csv', 'w') as f2write:\n",
    "        for line in f:\n",
    "            if 'context' in line:\n",
    "                f2write.write(line)"
   ]
  },
  {
   "cell_type": "code",
   "execution_count": 48,
   "id": "b5b1585a",
   "metadata": {},
   "outputs": [],
   "source": [
    "f3 = open('/Users/xeniakhrustaleva/Desktop/Работа с файлами/Downloads/visits_context.csv', 'r')"
   ]
  },
  {
   "cell_type": "code",
   "execution_count": 50,
   "id": "ac711e2c",
   "metadata": {},
   "outputs": [
    {
     "name": "stdout",
     "output_type": "stream",
     "text": [
      "86835b81ac,context\n",
      "\n",
      "f6401d302f,context\n",
      "\n",
      "282d7418ae,context\n",
      "\n",
      "cb9dd569e7,context\n",
      "\n",
      "423bb91bd9,context\n",
      "\n",
      "4111731cef,context\n",
      "\n"
     ]
    }
   ],
   "source": [
    "i = 0\n",
    "for line in f3:\n",
    "    dict_3 = f3.readline()\n",
    "    print(dict_3)\n",
    "        \n",
    "    i += 1\n",
    "    if i > 5:\n",
    "        break"
   ]
  },
  {
   "cell_type": "code",
   "execution_count": null,
   "id": "d8c99049",
   "metadata": {},
   "outputs": [],
   "source": []
  }
 ],
 "metadata": {
  "kernelspec": {
   "display_name": "Python 3 (ipykernel)",
   "language": "python",
   "name": "python3"
  },
  "language_info": {
   "codemirror_mode": {
    "name": "ipython",
    "version": 3
   },
   "file_extension": ".py",
   "mimetype": "text/x-python",
   "name": "python",
   "nbconvert_exporter": "python",
   "pygments_lexer": "ipython3",
   "version": "3.9.12"
  },
  "vscode": {
   "interpreter": {
    "hash": "96b2090c7fad62b860be4c28a9f8437d8de0cb29e80f80a3f8a6b4ca50a21c0f"
   }
  }
 },
 "nbformat": 4,
 "nbformat_minor": 5
}
