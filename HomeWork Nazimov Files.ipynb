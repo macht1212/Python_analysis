{
 "cells": [
  {
   "cell_type": "code",
   "execution_count": 12,
   "id": "04436a70",
   "metadata": {
    "scrolled": true
   },
   "outputs": [],
   "source": [
    "import json"
   ]
  },
  {
   "cell_type": "markdown",
   "id": "48059451",
   "metadata": {},
   "source": [
    "## Задание 1"
   ]
  },
  {
   "cell_type": "code",
   "execution_count": 15,
   "id": "eac7b1b1",
   "metadata": {},
   "outputs": [],
   "source": [
    "with open('Downloads/purchase_log.txt', 'r') as f:\n",
    "\n",
    "    i = 0\n",
    "    dict_2 = {}\n",
    "    \n",
    "    for line in f:\n",
    "        line = line.strip()\n",
    "        \n",
    "        dict_ = json.loads(line)\n",
    "        if dict_['user_id'] not in dict_2:\n",
    "            dict_2[dict_['user_id']] = [dict_['category']]\n",
    "        else:\n",
    "            dict_2[dict_['user_id']].append(dict_['category'])"
   ]
  },
  {
   "cell_type": "markdown",
   "id": "47cb730e",
   "metadata": {},
   "source": [
    "## Задание 2"
   ]
  },
  {
   "cell_type": "code",
   "execution_count": 36,
   "id": "9aeff72c",
   "metadata": {},
   "outputs": [],
   "source": [
    "with open('Downloads/visit_log.csv', 'r') as f:\n",
    "    with open('Downloads/visits_context.csv', 'w') as f2write:\n",
    "        \n",
    "        for line in f:\n",
    "            user_id = line.strip().split(',')[0]\n",
    "            \n",
    "            if user_id in dict_2:\n",
    "                category = dict_2[user_id]\n",
    "                line_2 = [line.strip().split(',')[0], line.strip().split(',')[1], category[0], '\\n']\n",
    "                line_3 = ','.join(line_2)\n",
    "\n",
    "                f2write.write(line_3)"
   ]
  }
 ],
 "metadata": {
  "kernelspec": {
   "display_name": "Python 3 (ipykernel)",
   "language": "python",
   "name": "python3"
  },
  "language_info": {
   "codemirror_mode": {
    "name": "ipython",
    "version": 3
   },
   "file_extension": ".py",
   "mimetype": "text/x-python",
   "name": "python",
   "nbconvert_exporter": "python",
   "pygments_lexer": "ipython3",
   "version": "3.9.12"
  },
  "vscode": {
   "interpreter": {
    "hash": "96b2090c7fad62b860be4c28a9f8437d8de0cb29e80f80a3f8a6b4ca50a21c0f"
   }
  }
 },
 "nbformat": 4,
 "nbformat_minor": 5
}
