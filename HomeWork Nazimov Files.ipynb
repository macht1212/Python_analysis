{
 "cells": [
  {
   "cell_type": "code",
   "execution_count": 27,
   "id": "04436a70",
   "metadata": {
    "scrolled": true
   },
   "outputs": [],
   "source": [
    "import json"
   ]
  },
  {
   "cell_type": "markdown",
   "id": "62d480be",
   "metadata": {},
   "source": [
    "## Задание 1"
   ]
  },
  {
   "cell_type": "code",
   "execution_count": 28,
   "id": "8ca00380",
   "metadata": {},
   "outputs": [],
   "source": [
    "f = open('/Users/xeniakhrustaleva/Desktop/Работа с файлами/Downloads/purchase_log.txt', 'r', encoding='utf-8')"
   ]
  },
  {
   "cell_type": "code",
   "execution_count": 29,
   "id": "6288559e",
   "metadata": {},
   "outputs": [],
   "source": [
    "content = f.readlines()"
   ]
  },
  {
   "cell_type": "code",
   "execution_count": 30,
   "id": "241eddfd",
   "metadata": {},
   "outputs": [
    {
     "name": "stdout",
     "output_type": "stream",
     "text": [
      "{'user_id': 'user_id', 'category': 'category'}\n",
      "{'user_id': '1840e0b9d4', 'category': 'Продукты'}\n",
      "{'user_id': '4e4f90fcfb', 'category': 'Электроника'}\n",
      "{'user_id': 'afea8d72fc', 'category': 'Электроника'}\n",
      "{'user_id': '373a6055fe', 'category': 'Бытовая техника'}\n",
      "{'user_id': '9b2ab046f3', 'category': 'Электроника'}\n"
     ]
    }
   ],
   "source": [
    "i = 0\n",
    "for line in content:\n",
    "    line = line.strip()\n",
    "        \n",
    "    dict_ = json.loads(line)\n",
    "    print(dict_)\n",
    "        \n",
    "    i += 1\n",
    "    if i > 5:\n",
    "        break"
   ]
  },
  {
   "cell_type": "markdown",
   "id": "ee6fc07c",
   "metadata": {},
   "source": [
    "## Задание 2"
   ]
  },
  {
   "cell_type": "code",
   "execution_count": 43,
   "id": "c0ce0083",
   "metadata": {},
   "outputs": [],
   "source": [
    "f2 = open('/Users/xeniakhrustaleva/Desktop/Работа с файлами/Downloads/visit_log.csv', 'r', encoding='utf-8')"
   ]
  },
  {
   "cell_type": "code",
   "execution_count": 44,
   "id": "c90c8a3f",
   "metadata": {},
   "outputs": [],
   "source": [
    "content2 = f2.readline()"
   ]
  },
  {
   "cell_type": "code",
   "execution_count": 45,
   "id": "259a7fd4",
   "metadata": {},
   "outputs": [
    {
     "data": {
      "text/plain": [
       "['user_id', 'source']"
      ]
     },
     "execution_count": 45,
     "metadata": {},
     "output_type": "execute_result"
    }
   ],
   "source": [
    "content2.strip().split(',')"
   ]
  },
  {
   "cell_type": "code",
   "execution_count": 46,
   "id": "7476433a",
   "metadata": {},
   "outputs": [],
   "source": [
    "with open('/Users/xeniakhrustaleva/Desktop/Работа с файлами/Downloads/visit_log.csv', 'r') as f:\n",
    "    with open('/Users/xeniakhrustaleva/Desktop/Работа с файлами/Downloads/visits_context.csv', 'w') as f2write:\n",
    "        for line in f:\n",
    "            if 'context' in line:\n",
    "                f2write.write(line)"
   ]
  },
  {
   "cell_type": "code",
   "execution_count": null,
   "id": "79c87cfc",
   "metadata": {},
   "outputs": [],
   "source": []
  }
 ],
 "metadata": {
  "kernelspec": {
   "display_name": "Python 3 (ipykernel)",
   "language": "python",
   "name": "python3"
  },
  "language_info": {
   "codemirror_mode": {
    "name": "ipython",
    "version": 3
   },
   "file_extension": ".py",
   "mimetype": "text/x-python",
   "name": "python",
   "nbconvert_exporter": "python",
   "pygments_lexer": "ipython3",
   "version": "3.9.12"
  },
  "vscode": {
   "interpreter": {
    "hash": "96b2090c7fad62b860be4c28a9f8437d8de0cb29e80f80a3f8a6b4ca50a21c0f"
   }
  }
 },
 "nbformat": 4,
 "nbformat_minor": 5
}
