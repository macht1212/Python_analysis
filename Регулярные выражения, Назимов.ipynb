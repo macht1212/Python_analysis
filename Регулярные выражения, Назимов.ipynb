{
 "cells": [
  {
   "cell_type": "code",
   "execution_count": 17,
   "id": "8a76fc74",
   "metadata": {},
   "outputs": [],
   "source": [
    "import re"
   ]
  },
  {
   "cell_type": "markdown",
   "id": "3538612e",
   "metadata": {},
   "source": [
    "# Задание 1"
   ]
  },
  {
   "cell_type": "code",
   "execution_count": 20,
   "id": "f8209d17",
   "metadata": {},
   "outputs": [],
   "source": [
    "def car_id_validation():\n",
    "    \n",
    "    car_id = input(\"Введите автомобильный номер: \")\n",
    "    \n",
    "    exception = ['й', 'ц', 'г', 'ш', 'щ', 'з', 'ъ', 'ф', 'ы', 'п', 'л', 'д', 'ж', 'э', 'я', 'ч', 'ь', 'б', 'и', 'ю']\n",
    "\n",
    "    validation = re.findall(r'\\w\\d{3}\\w{2}\\d{2,3}', car_id)\n",
    "\n",
    "    if validation[0][:1] not in exception:\n",
    "        if validation[0][4] not in exception:\n",
    "            if validation[0][5] not in exception:\n",
    "                print(f'Номер {validation[0][:6]} влидный. Регион {validation[0][6:]}')\n",
    "            else:\n",
    "                print('Номер не влидный')\n",
    "        else:\n",
    "            print('Номер не влидный')\n",
    "    else:\n",
    "        print('Номер не влидный')\n",
    "\n",
    "        else:\n",
    "            print('Номер не влидный')"
   ]
  },
  {
   "cell_type": "code",
   "execution_count": 21,
   "id": "38d53dd0",
   "metadata": {},
   "outputs": [
    {
     "name": "stdout",
     "output_type": "stream",
     "text": [
      "Введите автомобильный номер: ф342аа21\n",
      "Номер ф342аа влидный. Регион 21\n"
     ]
    }
   ],
   "source": [
    "car_id_validation()"
   ]
  },
  {
   "cell_type": "markdown",
   "id": "6643c196",
   "metadata": {},
   "source": [
    "# Задание 2"
   ]
  },
  {
   "cell_type": "code",
   "execution_count": 141,
   "id": "fe1cd422",
   "metadata": {},
   "outputs": [],
   "source": [
    "some_string = 'Напишите функцию функцию, которая будет будет будет будет удалять все все все все последовательные повторы слов из из из из заданной строки строки при помощи регулярных выражений.'"
   ]
  },
  {
   "cell_type": "code",
   "execution_count": 143,
   "id": "1a4cfcdc",
   "metadata": {},
   "outputs": [
    {
     "name": "stdout",
     "output_type": "stream",
     "text": [
      "Напишите функцию которая будет удалять все последовательные повторы слов из заданной строки при помощи регулярных выражений\n"
     ]
    }
   ],
   "source": [
    "print( re.sub(r'\\b([^\\W\\d_]+)(\\s+\\1)+\\b', r'\\1', re.sub(r'\\W+', ' ', some_string).strip(), flags=re.I) )"
   ]
  },
  {
   "cell_type": "markdown",
   "id": "33504995",
   "metadata": {},
   "source": [
    "# Задание 3"
   ]
  },
  {
   "cell_type": "code",
   "execution_count": 106,
   "id": "e4c74e9e",
   "metadata": {},
   "outputs": [],
   "source": [
    "def acronym(some_words):\n",
    "\n",
    "    list_ = some_words.split(\" \")\n",
    "    list_n = []\n",
    "    list_n1 = []\n",
    "\n",
    "    for i, el in enumerate(list_):\n",
    "        list_n.append(re.findall(r'^\\w', list_[i]))\n",
    "\n",
    "    for i, el in enumerate(list_n):\n",
    "        list_n1.append(list_n[i][0].capitalize())\n",
    "\n",
    "    string = \"\".join(list_n1)\n",
    "    print(string)"
   ]
  },
  {
   "cell_type": "code",
   "execution_count": 107,
   "id": "d780a94f",
   "metadata": {},
   "outputs": [
    {
     "name": "stdout",
     "output_type": "stream",
     "text": [
      "ИТ\n"
     ]
    }
   ],
   "source": [
    "acronym('Информационные технологии')"
   ]
  },
  {
   "cell_type": "code",
   "execution_count": 108,
   "id": "49512e52",
   "metadata": {},
   "outputs": [
    {
     "name": "stdout",
     "output_type": "stream",
     "text": [
      "NFC\n"
     ]
    }
   ],
   "source": [
    "acronym('Near Field Communication')"
   ]
  },
  {
   "cell_type": "code",
   "execution_count": 109,
   "id": "7caffc74",
   "metadata": {},
   "outputs": [
    {
     "name": "stdout",
     "output_type": "stream",
     "text": [
      "ВУЗ\n"
     ]
    }
   ],
   "source": [
    "acronym('Высшее учебное заведение')"
   ]
  },
  {
   "cell_type": "markdown",
   "id": "3e95f0e1",
   "metadata": {},
   "source": [
    "# Задание 4"
   ]
  },
  {
   "cell_type": "code",
   "execution_count": 156,
   "id": "9b213671",
   "metadata": {},
   "outputs": [
    {
     "name": "stdout",
     "output_type": "stream",
     "text": [
      "gmail.com: 2\n",
      "test.in: 1\n",
      "ya.ru: 2\n",
      "mail.ru: 1\n"
     ]
    }
   ],
   "source": [
    "emails = ['test@gmail.com', 'xyz@test.in', 'test@ya.ru', 'xyz@mail.ru', 'xyz@ya.ru', 'xyz@gmail.com']\n",
    "email_list = []\n",
    "email_list_ = []\n",
    "\n",
    "for i, el in enumerate(emails):\n",
    "    email_list.append(re.findall(r'@\\w+\\.\\w+', emails[i]))\n",
    "    \n",
    "for i, el in enumerate(email_list):\n",
    "    email_list_.append(email_list[i][0])\n",
    "    \n",
    "list_ = \" \".join(email_list_)\n",
    "\n",
    "print(f\"gmail.com: {len(re.findall(r'gmail.com', list_))}\")\n",
    "print(f\"test.in: {len(re.findall(r'test.in', list_))}\")\n",
    "print(f\"ya.ru: {len(re.findall(r'ya.ru', list_))}\")\n",
    "print(f\"mail.ru: {len(re.findall(r'mail.ru', list_))}\")"
   ]
  },
  {
   "cell_type": "code",
   "execution_count": null,
   "id": "8f501da1",
   "metadata": {},
   "outputs": [],
   "source": []
  }
 ],
 "metadata": {
  "kernelspec": {
   "display_name": "Python 3 (ipykernel)",
   "language": "python",
   "name": "python3"
  },
  "language_info": {
   "codemirror_mode": {
    "name": "ipython",
    "version": 3
   },
   "file_extension": ".py",
   "mimetype": "text/x-python",
   "name": "python",
   "nbconvert_exporter": "python",
   "pygments_lexer": "ipython3",
   "version": "3.9.12"
  }
 },
 "nbformat": 4,
 "nbformat_minor": 5
}
