{
 "cells": [
  {
   "cell_type": "code",
   "execution_count": 17,
   "id": "140e958a",
   "metadata": {},
   "outputs": [],
   "source": [
    "import re"
   ]
  },
  {
   "cell_type": "markdown",
   "id": "b2b1693a",
   "metadata": {},
   "source": [
    "# Задание 1"
   ]
  },
  {
   "cell_type": "code",
   "execution_count": 20,
   "id": "8b1236b8",
   "metadata": {},
   "outputs": [],
   "source": [
    "def car_id_validation():\n",
    "    \n",
    "    car_id = input(\"Введите автомобильный номер: \")\n",
    "    \n",
    "    exception = ['й', 'ц', 'г', 'ш', 'щ', 'з', 'ъ', 'ф', 'ы', 'п', 'л', 'д', 'ж', 'э', 'я', 'ч', 'ь', 'б', 'и', 'ю']\n",
    "\n",
    "    validation = re.findall(r'\\w\\d{3}\\w{2}\\d{2,3}', car_id)\n",
    "\n",
    "    if validation[0][:1] not in exception:\n",
    "        if validation[0][4] not in exception:\n",
    "            if validation[0][5] not in exception:\n",
    "                print(f'Номер {validation[0][:6]} влидный. Регион {validation[0][6:]}')\n",
    "            else:\n",
    "                print('Номер не влидный')\n",
    "        else:\n",
    "            print('Номер не влидный')\n",
    "    else:\n",
    "        print('Номер не влидный')\n",
    "\n",
    "        else:\n",
    "            print('Номер не влидный')"
   ]
  },
  {
   "cell_type": "code",
   "execution_count": 21,
   "id": "4798f242",
   "metadata": {},
   "outputs": [
    {
     "name": "stdout",
     "output_type": "stream",
     "text": [
      "Введите автомобильный номер: ф342аа21\n",
      "Номер ф342аа влидный. Регион 21\n"
     ]
    }
   ],
   "source": [
    "car_id_validation()"
   ]
  },
  {
   "cell_type": "markdown",
   "id": "9247b55a",
   "metadata": {},
   "source": [
    "# Задание 2"
   ]
  },
  {
   "cell_type": "code",
   "execution_count": 141,
   "id": "82d20c94",
   "metadata": {},
   "outputs": [],
   "source": [
    "some_string = 'Напишите функцию функцию, которая будет будет будет будет удалять все все все все последовательные повторы слов из из из из заданной строки строки при помощи регулярных выражений.'"
   ]
  },
  {
   "cell_type": "code",
   "execution_count": 143,
   "id": "64fde567",
   "metadata": {},
   "outputs": [
    {
     "name": "stdout",
     "output_type": "stream",
     "text": [
      "Напишите функцию которая будет удалять все последовательные повторы слов из заданной строки при помощи регулярных выражений\n"
     ]
    }
   ],
   "source": [
    "print( re.sub(r'\\b([^\\W\\d_]+)(\\s+\\1)+\\b', r'\\1', re.sub(r'\\W+', ' ', some_string).strip(), flags=re.I) )"
   ]
  },
  {
   "cell_type": "markdown",
   "id": "0ac6cdf6",
   "metadata": {},
   "source": [
    "# Задание 3"
   ]
  },
  {
   "cell_type": "code",
   "execution_count": 106,
   "id": "d1e786ca",
   "metadata": {},
   "outputs": [],
   "source": [
    "def acronym(some_words):\n",
    "\n",
    "    list_ = some_words.split(\" \")\n",
    "    list_n = []\n",
    "    list_n1 = []\n",
    "\n",
    "    for i, el in enumerate(list_):\n",
    "        list_n.append(re.findall(r'^\\w', list_[i]))\n",
    "\n",
    "    for i, el in enumerate(list_n):\n",
    "        list_n1.append(list_n[i][0].capitalize())\n",
    "\n",
    "    string = \"\".join(list_n1)\n",
    "    print(string)"
   ]
  },
  {
   "cell_type": "code",
   "execution_count": 107,
   "id": "87f21d07",
   "metadata": {},
   "outputs": [
    {
     "name": "stdout",
     "output_type": "stream",
     "text": [
      "ИТ\n"
     ]
    }
   ],
   "source": [
    "acronym('Информационные технологии')"
   ]
  },
  {
   "cell_type": "code",
   "execution_count": 108,
   "id": "531c5776",
   "metadata": {},
   "outputs": [
    {
     "name": "stdout",
     "output_type": "stream",
     "text": [
      "NFC\n"
     ]
    }
   ],
   "source": [
    "acronym('Near Field Communication')"
   ]
  },
  {
   "cell_type": "code",
   "execution_count": 109,
   "id": "a2b6e3cc",
   "metadata": {},
   "outputs": [
    {
     "name": "stdout",
     "output_type": "stream",
     "text": [
      "ВУЗ\n"
     ]
    }
   ],
   "source": [
    "acronym('Высшее учебное заведение')"
   ]
  },
  {
   "cell_type": "markdown",
   "id": "d733dd58",
   "metadata": {},
   "source": [
    "# Задание 4"
   ]
  },
  {
   "cell_type": "code",
   "execution_count": 156,
   "id": "89859e2a",
   "metadata": {},
   "outputs": [
    {
     "name": "stdout",
     "output_type": "stream",
     "text": [
      "gmail.com: 2\n",
      "test.in: 1\n",
      "ya.ru: 2\n",
      "mail.ru: 1\n"
     ]
    }
   ],
   "source": [
    "emails = ['test@gmail.com', 'xyz@test.in', 'test@ya.ru', 'xyz@mail.ru', 'xyz@ya.ru', 'xyz@gmail.com']\n",
    "email_list = []\n",
    "email_list_ = []\n",
    "\n",
    "for i, el in enumerate(emails):\n",
    "    email_list.append(re.findall(r'@\\w+\\.\\w+', emails[i]))\n",
    "    \n",
    "for i, el in enumerate(email_list):\n",
    "    email_list_.append(email_list[i][0])\n",
    "    \n",
    "list_ = \" \".join(email_list_)\n",
    "\n",
    "print(f\"gmail.com: {len(re.findall(r'gmail.com', list_))}\")\n",
    "print(f\"test.in: {len(re.findall(r'test.in', list_))}\")\n",
    "print(f\"ya.ru: {len(re.findall(r'ya.ru', list_))}\")\n",
    "print(f\"mail.ru: {len(re.findall(r'mail.ru', list_))}\")"
   ]
  },
  {
   "cell_type": "code",
   "execution_count": null,
   "id": "24d471bf",
   "metadata": {},
   "outputs": [],
   "source": [
    "re.findall(r'(+7|8)')"
   ]
  }
 ],
 "metadata": {
  "kernelspec": {
   "display_name": "Python 3 (ipykernel)",
   "language": "python",
   "name": "python3"
  },
  "language_info": {
   "codemirror_mode": {
    "name": "ipython",
    "version": 3
   },
   "file_extension": ".py",
   "mimetype": "text/x-python",
   "name": "python",
   "nbconvert_exporter": "python",
   "pygments_lexer": "ipython3",
   "version": "3.9.12"
  }
 },
 "nbformat": 4,
 "nbformat_minor": 5
}
