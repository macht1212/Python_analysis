{
 "cells": [
  {
   "cell_type": "code",
   "execution_count": 1,
   "id": "8fc4084f",
   "metadata": {},
   "outputs": [],
   "source": [
    "import datetime as dt"
   ]
  },
  {
   "cell_type": "markdown",
   "id": "86901414",
   "metadata": {},
   "source": [
    "# Задание 1\n",
    "\n",
    "The Moscow Times - Wednesday, October 2, 2002\n",
    "\n",
    "The Guardian - Friday, 11.10.13\n",
    "\n",
    "Daily News - Thursday, 18 August 1977"
   ]
  },
  {
   "cell_type": "code",
   "execution_count": 39,
   "id": "bad987bf",
   "metadata": {},
   "outputs": [],
   "source": [
    "date_MT = 'The Moscow Times - Wednesday, October 2, 2002'\n",
    "date_G = 'The Guardian - Friday, 11.10.13'\n",
    "date_DN = 'Daily News - Thursday, 18 August 1977'"
   ]
  },
  {
   "cell_type": "code",
   "execution_count": 40,
   "id": "27b55066",
   "metadata": {},
   "outputs": [
    {
     "name": "stdout",
     "output_type": "stream",
     "text": [
      "['The Moscow Times', 'Wednesday, October 2, 2002']\n",
      "['The Guardian', 'Friday, 11.10.13']\n",
      "['Daily News', 'Thursday, 18 August 1977']\n"
     ]
    }
   ],
   "source": [
    "date_MT_list = date_MT.split(' - ')\n",
    "date_G_list = date_G.split(' - ')\n",
    "date_DN_list = date_DN.split(' - ')\n",
    "\n",
    "print(date_MT_list)\n",
    "print(date_G_list)\n",
    "print(date_DN_list)"
   ]
  },
  {
   "cell_type": "code",
   "execution_count": 41,
   "id": "88bacc14",
   "metadata": {},
   "outputs": [
    {
     "name": "stdout",
     "output_type": "stream",
     "text": [
      "2002-10-02 00:00:00\n",
      "2013-10-11 00:00:00\n",
      "1977-08-18 00:00:00\n"
     ]
    }
   ],
   "source": [
    "MT_datetype = dt.datetime.strptime(date_MT_list[1], '%A, %B %d, %Y')\n",
    "G_datetype = dt.datetime.strptime(date_G_list[1], '%A, %d.%m.%y')\n",
    "DN_datetype = dt.datetime.strptime(date_DN_list[1], '%A, %d %B %Y')\n",
    "\n",
    "print(MT_datetype)\n",
    "print(G_datetype)\n",
    "print(DN_datetype)"
   ]
  },
  {
   "cell_type": "code",
   "execution_count": 37,
   "id": "38502883",
   "metadata": {},
   "outputs": [
    {
     "data": {
      "text/plain": [
       "'Wednesday, October 02, 2002'"
      ]
     },
     "execution_count": 37,
     "metadata": {},
     "output_type": "execute_result"
    }
   ],
   "source": [
    "MT_datetype.strftime('%A, %B %d, %Y')"
   ]
  },
  {
   "cell_type": "code",
   "execution_count": 38,
   "id": "066e9483",
   "metadata": {},
   "outputs": [
    {
     "data": {
      "text/plain": [
       "'Friday, 11.10.13'"
      ]
     },
     "execution_count": 38,
     "metadata": {},
     "output_type": "execute_result"
    }
   ],
   "source": [
    "G_datetype.strftime('%A, %d.%m.%y')"
   ]
  },
  {
   "cell_type": "code",
   "execution_count": 42,
   "id": "13c01275",
   "metadata": {},
   "outputs": [
    {
     "data": {
      "text/plain": [
       "'Thursday, 18 August 1977'"
      ]
     },
     "execution_count": 42,
     "metadata": {},
     "output_type": "execute_result"
    }
   ],
   "source": [
    "DN_datetype.strftime('%A, %d %B %Y')"
   ]
  },
  {
   "cell_type": "markdown",
   "id": "07cbd31b",
   "metadata": {},
   "source": [
    "# Задание 2"
   ]
  },
  {
   "cell_type": "code",
   "execution_count": 44,
   "id": "ea2f4ba0",
   "metadata": {},
   "outputs": [],
   "source": [
    "stream = ['2018-04-02', '2018-02-29', '2018-19-02']"
   ]
  },
  {
   "cell_type": "code",
   "execution_count": 49,
   "id": "e0256b3f",
   "metadata": {},
   "outputs": [
    {
     "name": "stdout",
     "output_type": "stream",
     "text": [
      "True\n",
      "False\n",
      "False\n"
     ]
    }
   ],
   "source": [
    "for date in stream:\n",
    "    try:\n",
    "        dt.datetime.strptime(date, '%Y-%m-%d')\n",
    "        print(True)\n",
    "    except:\n",
    "        print(False)"
   ]
  },
  {
   "cell_type": "markdown",
   "id": "e371bf41",
   "metadata": {},
   "source": [
    "# Задание 3"
   ]
  },
  {
   "cell_type": "code",
   "execution_count": null,
   "id": "ad1cf253",
   "metadata": {},
   "outputs": [],
   "source": []
  }
 ],
 "metadata": {
  "kernelspec": {
   "display_name": "Python 3 (ipykernel)",
   "language": "python",
   "name": "python3"
  },
  "language_info": {
   "codemirror_mode": {
    "name": "ipython",
    "version": 3
   },
   "file_extension": ".py",
   "mimetype": "text/x-python",
   "name": "python",
   "nbconvert_exporter": "python",
   "pygments_lexer": "ipython3",
   "version": "3.9.12"
  }
 },
 "nbformat": 4,
 "nbformat_minor": 5
}
