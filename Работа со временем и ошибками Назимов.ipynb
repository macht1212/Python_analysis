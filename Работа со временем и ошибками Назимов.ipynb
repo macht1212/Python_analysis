{
 "cells": [
  {
   "cell_type": "code",
   "execution_count": 1,
   "id": "1621fee5",
   "metadata": {},
   "outputs": [],
   "source": [
    "import datetime as dt"
   ]
  },
  {
   "cell_type": "code",
   "execution_count": 63,
   "id": "f0fbc885",
   "metadata": {},
   "outputs": [],
   "source": [
    "from datetime import timedelta"
   ]
  },
  {
   "cell_type": "markdown",
   "id": "dc7c5ba6",
   "metadata": {},
   "source": [
    "# Задание 1\n",
    "\n",
    "The Moscow Times - Wednesday, October 2, 2002\n",
    "\n",
    "The Guardian - Friday, 11.10.13\n",
    "\n",
    "Daily News - Thursday, 18 August 1977"
   ]
  },
  {
   "cell_type": "code",
   "execution_count": 39,
   "id": "05fa4a6b",
   "metadata": {},
   "outputs": [],
   "source": [
    "date_MT = 'The Moscow Times - Wednesday, October 2, 2002'\n",
    "date_G = 'The Guardian - Friday, 11.10.13'\n",
    "date_DN = 'Daily News - Thursday, 18 August 1977'"
   ]
  },
  {
   "cell_type": "code",
   "execution_count": 40,
   "id": "98a6a168",
   "metadata": {},
   "outputs": [
    {
     "name": "stdout",
     "output_type": "stream",
     "text": [
      "['The Moscow Times', 'Wednesday, October 2, 2002']\n",
      "['The Guardian', 'Friday, 11.10.13']\n",
      "['Daily News', 'Thursday, 18 August 1977']\n"
     ]
    }
   ],
   "source": [
    "date_MT_list = date_MT.split(' - ')\n",
    "date_G_list = date_G.split(' - ')\n",
    "date_DN_list = date_DN.split(' - ')\n",
    "\n",
    "print(date_MT_list)\n",
    "print(date_G_list)\n",
    "print(date_DN_list)"
   ]
  },
  {
   "cell_type": "code",
   "execution_count": 41,
   "id": "93966691",
   "metadata": {},
   "outputs": [
    {
     "name": "stdout",
     "output_type": "stream",
     "text": [
      "2002-10-02 00:00:00\n",
      "2013-10-11 00:00:00\n",
      "1977-08-18 00:00:00\n"
     ]
    }
   ],
   "source": [
    "MT_datetype = dt.datetime.strptime(date_MT_list[1], '%A, %B %d, %Y')\n",
    "G_datetype = dt.datetime.strptime(date_G_list[1], '%A, %d.%m.%y')\n",
    "DN_datetype = dt.datetime.strptime(date_DN_list[1], '%A, %d %B %Y')\n",
    "\n",
    "print(MT_datetype)\n",
    "print(G_datetype)\n",
    "print(DN_datetype)"
   ]
  },
  {
   "cell_type": "code",
   "execution_count": 37,
   "id": "5424a92f",
   "metadata": {},
   "outputs": [
    {
     "data": {
      "text/plain": [
       "'Wednesday, October 02, 2002'"
      ]
     },
     "execution_count": 37,
     "metadata": {},
     "output_type": "execute_result"
    }
   ],
   "source": [
    "MT_datetype.strftime('%A, %B %d, %Y')"
   ]
  },
  {
   "cell_type": "code",
   "execution_count": 38,
   "id": "a39b560f",
   "metadata": {},
   "outputs": [
    {
     "data": {
      "text/plain": [
       "'Friday, 11.10.13'"
      ]
     },
     "execution_count": 38,
     "metadata": {},
     "output_type": "execute_result"
    }
   ],
   "source": [
    "G_datetype.strftime('%A, %d.%m.%y')"
   ]
  },
  {
   "cell_type": "code",
   "execution_count": 42,
   "id": "57b678bc",
   "metadata": {},
   "outputs": [
    {
     "data": {
      "text/plain": [
       "'Thursday, 18 August 1977'"
      ]
     },
     "execution_count": 42,
     "metadata": {},
     "output_type": "execute_result"
    }
   ],
   "source": [
    "DN_datetype.strftime('%A, %d %B %Y')"
   ]
  },
  {
   "cell_type": "markdown",
   "id": "aee8e6f1",
   "metadata": {},
   "source": [
    "# Задание 2"
   ]
  },
  {
   "cell_type": "code",
   "execution_count": 44,
   "id": "850d8bad",
   "metadata": {},
   "outputs": [],
   "source": [
    "stream = ['2018-04-02', '2018-02-29', '2018-19-02']"
   ]
  },
  {
   "cell_type": "code",
   "execution_count": 49,
   "id": "3584ee44",
   "metadata": {},
   "outputs": [
    {
     "name": "stdout",
     "output_type": "stream",
     "text": [
      "True\n",
      "False\n",
      "False\n"
     ]
    }
   ],
   "source": [
    "for date in stream:\n",
    "    try:\n",
    "        dt.datetime.strptime(date, '%Y-%m-%d')\n",
    "        print(True)\n",
    "    except:\n",
    "        print(False)"
   ]
  },
  {
   "cell_type": "markdown",
   "id": "80dd9370",
   "metadata": {},
   "source": [
    "# Задание 3"
   ]
  },
  {
   "cell_type": "code",
   "execution_count": 60,
   "id": "385b308c",
   "metadata": {},
   "outputs": [],
   "source": [
    "def date_range():\n",
    "    start_date = input(\"Введите начальную дату в формате ДД.ММ.ГГГГ: \")\n",
    "    sd = dt.datetime.strptime(start_date, '%d.%m.%Y')\n",
    "    \n",
    "    end_date = input(\"Введите конечную дату в формате ДД.ММ.ГГГГ: \")\n",
    "    ed = dt.datetime.strptime(end_date, '%d.%m.%Y')\n",
    "    \n",
    "    if sd > ed:\n",
    "        print('Что-то пошло не так, проверьте даты')\n",
    "    else:\n",
    "        while sd < ed:\n",
    "            print(sd.strftime('%Y-%m-%d'))\n",
    "            sd += timedelta(days=1)"
   ]
  },
  {
   "cell_type": "code",
   "execution_count": 64,
   "id": "a6075a73",
   "metadata": {},
   "outputs": [
    {
     "name": "stdout",
     "output_type": "stream",
     "text": [
      "Введите начальную дату в формате ДД.ММ.ГГГГ: 12.02.2022\n",
      "Введите конечную дату в формате ДД.ММ.ГГГГ: 12.03.2022\n",
      "2022-02-12\n",
      "2022-02-13\n",
      "2022-02-14\n",
      "2022-02-15\n",
      "2022-02-16\n",
      "2022-02-17\n",
      "2022-02-18\n",
      "2022-02-19\n",
      "2022-02-20\n",
      "2022-02-21\n",
      "2022-02-22\n",
      "2022-02-23\n",
      "2022-02-24\n",
      "2022-02-25\n",
      "2022-02-26\n",
      "2022-02-27\n",
      "2022-02-28\n",
      "2022-03-01\n",
      "2022-03-02\n",
      "2022-03-03\n",
      "2022-03-04\n",
      "2022-03-05\n",
      "2022-03-06\n",
      "2022-03-07\n",
      "2022-03-08\n",
      "2022-03-09\n",
      "2022-03-10\n",
      "2022-03-11\n"
     ]
    }
   ],
   "source": [
    "date_range()"
   ]
  },
  {
   "cell_type": "code",
   "execution_count": 62,
   "id": "f0683534",
   "metadata": {},
   "outputs": [
    {
     "name": "stdout",
     "output_type": "stream",
     "text": [
      "Введите начальную дату в формате ДД.ММ.ГГГГ: 12.03.2022\n",
      "Введите конечную дату в формате ДД.ММ.ГГГГ: 12.02.2022\n",
      "Что-то пошло не так, проверьте даты\n"
     ]
    }
   ],
   "source": [
    "date_range()"
   ]
  },
  {
   "cell_type": "markdown",
   "id": "1e1f712a",
   "metadata": {},
   "source": [
    "# Задание 4\n",
    "\n",
    "1. Ошибка __list index out of range__ означает, что значение индекса превышает количество элементов списка\n",
    "2. На первом шаге код работает корректно, так как return default_list[DEFAULT_USER_COUNT-2] возвращает элемент списка с индексом 1, которым и является А101, но как только функция вызывается повторно, она удаляет последний элемент списка А101 (который ранее был элементом с индексом 1) и в списке остается только элемент с индексом 0 и при попытке вызвать элемент с индексом 1 появляется ошибка __list index out of range__\n",
    "\n",
    "Решить данную проблему можно изменив то, что возвращает функция, например: __return default_list[-1]__, что позволит вызвать последний элемент списка"
   ]
  },
  {
   "cell_type": "code",
   "execution_count": 81,
   "id": "bf2f7848",
   "metadata": {},
   "outputs": [],
   "source": [
    "DEFAULT_USER_COUNT = 3\n",
    "\n",
    "default_list=['A100', 'A101', 'A102']\n",
    "\n",
    "def delete_and_return_last_user(default_list):\n",
    "\n",
    "    \"\"\"\n",
    "    Удаляет из списка default_list последнего пользователя\n",
    "    и возвращает ID нового последнего пользователя.\n",
    "    \"\"\"\n",
    "    element_to_delete = default_list[-1]\n",
    "    default_list.remove(element_to_delete)\n",
    "\n",
    "    return default_list"
   ]
  },
  {
   "cell_type": "code",
   "execution_count": 82,
   "id": "f0ec3345",
   "metadata": {},
   "outputs": [
    {
     "data": {
      "text/plain": [
       "['A100', 'A101']"
      ]
     },
     "execution_count": 82,
     "metadata": {},
     "output_type": "execute_result"
    }
   ],
   "source": [
    "delete_and_return_last_user(default_list)"
   ]
  },
  {
   "cell_type": "code",
   "execution_count": 84,
   "id": "5e347c9d",
   "metadata": {},
   "outputs": [
    {
     "data": {
      "text/plain": [
       "['A100']"
      ]
     },
     "execution_count": 84,
     "metadata": {},
     "output_type": "execute_result"
    }
   ],
   "source": [
    "delete_and_return_last_user(default_list)"
   ]
  },
  {
   "cell_type": "code",
   "execution_count": 85,
   "id": "9cd219d0",
   "metadata": {},
   "outputs": [
    {
     "data": {
      "text/plain": [
       "[]"
      ]
     },
     "execution_count": 85,
     "metadata": {},
     "output_type": "execute_result"
    }
   ],
   "source": [
    "delete_and_return_last_user(default_list)"
   ]
  },
  {
   "cell_type": "code",
   "execution_count": null,
   "id": "a2cd9144",
   "metadata": {},
   "outputs": [],
   "source": []
  }
 ],
 "metadata": {
  "kernelspec": {
   "display_name": "Python 3 (ipykernel)",
   "language": "python",
   "name": "python3"
  },
  "language_info": {
   "codemirror_mode": {
    "name": "ipython",
    "version": 3
   },
   "file_extension": ".py",
   "mimetype": "text/x-python",
   "name": "python",
   "nbconvert_exporter": "python",
   "pygments_lexer": "ipython3",
   "version": "3.9.12"
  }
 },
 "nbformat": 4,
 "nbformat_minor": 5
}
